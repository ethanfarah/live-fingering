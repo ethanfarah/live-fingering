{
 "cells": [
  {
   "cell_type": "code",
   "execution_count": 1,
   "metadata": {},
   "outputs": [],
   "source": [
    "import cv2\n",
    "import mediapipe as mp\n",
    "import os\n",
    "import numpy as np"
   ]
  },
  {
   "cell_type": "code",
   "execution_count": 3,
   "metadata": {},
   "outputs": [
    {
     "name": "stderr",
     "output_type": "stream",
     "text": [
      "I0000 00:00:1715549391.489834 4921729 gl_context.cc:357] GL version: 2.1 (2.1 Metal - 88), renderer: Apple M2 Pro\n"
     ]
    },
    {
     "name": "stderr",
     "output_type": "stream",
     "text": [
      "W0000 00:00:1715549391.496207 4921937 inference_feedback_manager.cc:114] Feedback manager requires a model with a single signature inference. Disabling support for feedback tensors.\n",
      "W0000 00:00:1715549391.502345 4921939 inference_feedback_manager.cc:114] Feedback manager requires a model with a single signature inference. Disabling support for feedback tensors.\n"
     ]
    }
   ],
   "source": [
    "mp_hands = mp.solutions.hands\n",
    "hands = mp_hands.Hands(static_image_mode=False,max_num_hands=2, min_detection_confidence=0.5)"
   ]
  },
  {
   "cell_type": "code",
   "execution_count": 33,
   "metadata": {},
   "outputs": [],
   "source": [
    "def process_video(video_path):\n",
    "    cap = cv2.VideoCapture(video_path)\n",
    "    max_hands = 2  # Maximum number of hands you want to detect per frame\n",
    "    landmark_count = 21  # Number of landmarks per hand in MediaPipe\n",
    "    video_results = []\n",
    "\n",
    "    while cap.isOpened():\n",
    "        success, image = cap.read()\n",
    "        if not success:\n",
    "            break\n",
    "\n",
    "        results = hands.process(cv2.cvtColor(image, cv2.COLOR_BGR2RGB))\n",
    "        \n",
    "        # Initialize frame data with placeholders for max_hands\n",
    "        frame_data = np.full((max_hands, landmark_count, 3), -1.0, dtype=float)\n",
    "        \n",
    "        if results.multi_hand_landmarks:\n",
    "            for i, hand_landmarks in enumerate(results.multi_hand_landmarks[:max_hands]):\n",
    "                for j, lm in enumerate(hand_landmarks.landmark):\n",
    "                    frame_data[i, j] = [lm.x, lm.y, lm.z]\n",
    "        \n",
    "        video_results.append(frame_data)\n",
    "\n",
    "    cap.release()\n",
    "    return np.array(video_results)"
   ]
  },
  {
   "cell_type": "code",
   "execution_count": 31,
   "metadata": {},
   "outputs": [],
   "source": [
    "def save_results(results, output_path):\n",
    "    np.save(output_path, np.array(results))"
   ]
  },
  {
   "cell_type": "code",
   "execution_count": 35,
   "metadata": {},
   "outputs": [
    {
     "name": "stderr",
     "output_type": "stream",
     "text": [
      "/opt/anaconda3/envs/myenv/lib/python3.11/site-packages/google/protobuf/symbol_database.py:55: UserWarning: SymbolDatabase.GetPrototype() is deprecated. Please use message_factory.GetMessageClass() instead. SymbolDatabase.GetPrototype() will be removed soon.\n",
      "  warnings.warn('SymbolDatabase.GetPrototype() is deprecated. Please '\n"
     ]
    },
    {
     "name": "stdout",
     "output_type": "stream",
     "text": [
      "Processed 52291.mp4 and saved results to /Users/ethanfarah/stanford-workspace/live-fingering/data/landmarks/52291.npy\n",
      "Processed 34114.mp4 and saved results to /Users/ethanfarah/stanford-workspace/live-fingering/data/landmarks/34114.npy\n",
      "Processed 60545.mp4 and saved results to /Users/ethanfarah/stanford-workspace/live-fingering/data/landmarks/60545.npy\n",
      "Processed 17915.mp4 and saved results to /Users/ethanfarah/stanford-workspace/live-fingering/data/landmarks/17915.npy\n",
      "Processed 51940.mp4 and saved results to /Users/ethanfarah/stanford-workspace/live-fingering/data/landmarks/51940.npy\n",
      "Processed 39430.mp4 and saved results to /Users/ethanfarah/stanford-workspace/live-fingering/data/landmarks/39430.npy\n",
      "Processed 69207.mp4 and saved results to /Users/ethanfarah/stanford-workspace/live-fingering/data/landmarks/69207.npy\n",
      "Processed 51798.mp4 and saved results to /Users/ethanfarah/stanford-workspace/live-fingering/data/landmarks/51798.npy\n",
      "Processed 38048.mp4 and saved results to /Users/ethanfarah/stanford-workspace/live-fingering/data/landmarks/38048.npy\n",
      "Processed 66652.mp4 and saved results to /Users/ethanfarah/stanford-workspace/live-fingering/data/landmarks/66652.npy\n",
      "Processed 29145.mp4 and saved results to /Users/ethanfarah/stanford-workspace/live-fingering/data/landmarks/29145.npy\n"
     ]
    }
   ],
   "source": [
    "for video_name in os.listdir(video_folder):\n",
    "    video_path = os.path.join(video_folder, video_name)\n",
    "    video_results = process_video(video_path)\n",
    "    npy_path = os.path.join(output_folder, f\"{os.path.splitext(video_name)[0]}.npy\")\n",
    "    np.save(npy_path, video_results)"
   ]
  },
  {
   "cell_type": "code",
   "execution_count": 38,
   "metadata": {},
   "outputs": [
    {
     "name": "stdout",
     "output_type": "stream",
     "text": [
      "Processed /: Shape (0,)\n"
     ]
    },
    {
     "name": "stderr",
     "output_type": "stream",
     "text": [
      "OpenCV: Couldn't read video stream from file \"/\"\n"
     ]
    },
    {
     "ename": "IndexError",
     "evalue": "index 0 is out of bounds for axis 0 with size 0",
     "output_type": "error",
     "traceback": [
      "\u001b[0;31m---------------------------------------------------------------------------\u001b[0m",
      "\u001b[0;31mIndexError\u001b[0m                                Traceback (most recent call last)",
      "Cell \u001b[0;32mIn[38], line 10\u001b[0m\n\u001b[1;32m      8\u001b[0m     \u001b[38;5;28mprint\u001b[39m(\u001b[38;5;124mf\u001b[39m\u001b[38;5;124m\"\u001b[39m\u001b[38;5;124mProcessed \u001b[39m\u001b[38;5;132;01m{\u001b[39;00mvideo_name\u001b[38;5;132;01m}\u001b[39;00m\u001b[38;5;124m: Shape \u001b[39m\u001b[38;5;132;01m{\u001b[39;00mvideo_results\u001b[38;5;241m.\u001b[39mshape\u001b[38;5;132;01m}\u001b[39;00m\u001b[38;5;124m\"\u001b[39m)\n\u001b[1;32m      9\u001b[0m     \u001b[38;5;66;03m# Optionally inspect the content\u001b[39;00m\n\u001b[0;32m---> 10\u001b[0m     \u001b[38;5;28mprint\u001b[39m(\u001b[43mvideo_results\u001b[49m\u001b[43m[\u001b[49m\u001b[38;5;241;43m0\u001b[39;49m\u001b[43m]\u001b[49m)  \u001b[38;5;66;03m# Print data from the first frame to inspect\u001b[39;00m\n\u001b[1;32m     13\u001b[0m \u001b[38;5;28;01mdef\u001b[39;00m \u001b[38;5;21mplot_landmarks\u001b[39m(image, landmarks):\n\u001b[1;32m     14\u001b[0m     plt\u001b[38;5;241m.\u001b[39mimshow(image)\n",
      "\u001b[0;31mIndexError\u001b[0m: index 0 is out of bounds for axis 0 with size 0"
     ]
    }
   ],
   "source": [
    "def process_and_save(video_name):\n",
    "    video_path = os.path.join(video_folder, video_name)\n",
    "    video_results = process_video(video_path)\n",
    "    npy_path = os.path.join(output_folder, f\"{os.path.splitext(video_name)[0]}.npy\")\n",
    "    np.save(npy_path, video_results)\n",
    "    return f\"Processed and saved {video_name}\""
   ]
  },
  {
   "cell_type": "code",
   "execution_count": null,
   "metadata": {},
   "outputs": [],
   "source": [
    "from multiprocessing import Pool\n",
    "\n",
    "# Get the current working directory (where the script is run from)\n",
    "base_dir = os.getcwd()\n",
    "\n",
    "# Construct paths relative to the base directory\n",
    "video_folder = os.path.join(base_dir, 'data', 'videos')\n",
    "output_folder = os.path.join(base_dir, 'data', 'landmarks')\n",
    "\n",
    "video_files = os.listdir(video_folder)\n",
    "\n",
    "# Use all available cores, or specify the number of processes\n",
    "with Pool(processes=os.cpu_count()) as pool:\n",
    "    results = pool.map(process_and_save, video_files)\n",
    "    for result in results:\n",
    "        print(result)"
   ]
  }
 ],
 "metadata": {
  "kernelspec": {
   "display_name": "myenv",
   "language": "python",
   "name": "python3"
  },
  "language_info": {
   "codemirror_mode": {
    "name": "ipython",
    "version": 3
   },
   "file_extension": ".py",
   "mimetype": "text/x-python",
   "name": "python",
   "nbconvert_exporter": "python",
   "pygments_lexer": "ipython3",
   "version": "3.11.9"
  }
 },
 "nbformat": 4,
 "nbformat_minor": 2
}
